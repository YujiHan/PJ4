{
 "cells": [
  {
   "cell_type": "code",
   "execution_count": 1,
   "metadata": {},
   "outputs": [],
   "source": [
    "import numpy as np\n",
    "import torch\n",
    "from torch import nn\n",
    "import math\n",
    "import model\n",
    "import dataset\n",
    "\n",
    "global_types = ['CLD', 'SCD', 'HIST']\n",
    "local_types = ['sift', 'orb', 'surf']"
   ]
  },
  {
   "cell_type": "code",
   "execution_count": 2,
   "metadata": {},
   "outputs": [],
   "source": [
    "device = torch.device(\"cuda\" if torch.cuda.is_available() else \"cpu\")\n"
   ]
  },
  {
   "cell_type": "code",
   "execution_count": 9,
   "metadata": {},
   "outputs": [],
   "source": [
    "global_type = global_types[0]\n",
    "local_type = local_types[0]\n",
    "\n",
    "global_feature_train = np.load(f'/home/hanyuji/projects/PJ4/data/global_features/global_feature_{global_type}_train.npy')\n",
    "local_feature_train = np.load(f'/home/hanyuji/projects/PJ4/data/local_features/local_feature_{local_type}_train.npy')\n",
    "concatenate_feature_train = np.concatenate((global_feature_train,local_feature_train),axis=1)\n",
    "label_train = np.load('/home/hanyuji/projects/PJ4/data/labels/label_train.npy')\n",
    "\n",
    "global_feature_test = np.load(f'/home/hanyuji/projects/PJ4/data/global_features/global_feature_{global_type}_test.npy')\n",
    "local_feature_test = np.load(f'/home/hanyuji/projects/PJ4/data/local_features/local_feature_{local_type}_test.npy')\n",
    "concatenate_feature_test = np.concatenate((global_feature_test,local_feature_test),axis=1)\n",
    "label_test = np.load('/home/hanyuji/projects/PJ4/data/labels/label_test.npy')"
   ]
  },
  {
   "cell_type": "code",
   "execution_count": 10,
   "metadata": {},
   "outputs": [],
   "source": [
    "net = model.ClassificationNet(dimension=concatenate_feature_train.shape[1])\n",
    "net.to(device)\n",
    "\n",
    "train_dataloader,val_dataloader = dataset.get_dataloader(concatenate_feature_train,label_train )"
   ]
  },
  {
   "cell_type": "code",
   "execution_count": 11,
   "metadata": {},
   "outputs": [
    {
     "name": "stdout",
     "output_type": "stream",
     "text": [
      "epoch: 0, train_loss: 1.7962863445281982, val_loss: 1.7933945655822754, accuracy: 0.165, f1: 0.046738197424892707\n",
      "epoch: 10, train_loss: 1.7236955165863037, val_loss: 1.706089735031128, accuracy: 0.275, f1: 0.23355294381255007\n",
      "epoch: 20, train_loss: 1.597448468208313, val_loss: 1.6564745903015137, accuracy: 0.2825, f1: 0.26061631412382946\n",
      "epoch: 30, train_loss: 1.573532223701477, val_loss: 1.615639328956604, accuracy: 0.325, f1: 0.3194305691356101\n",
      "epoch: 40, train_loss: 1.518892765045166, val_loss: 1.5836575031280518, accuracy: 0.33375, f1: 0.31958615020226433\n",
      "epoch: 50, train_loss: 1.465469479560852, val_loss: 1.5627381801605225, accuracy: 0.35875, f1: 0.35544039177140874\n",
      "epoch: 60, train_loss: 1.5201561450958252, val_loss: 1.5411847829818726, accuracy: 0.38, f1: 0.37673861018197924\n",
      "epoch: 70, train_loss: 1.4154958724975586, val_loss: 1.5522202253341675, accuracy: 0.3925, f1: 0.38239392939022443\n",
      "epoch: 80, train_loss: 1.4283894300460815, val_loss: 1.5409891605377197, accuracy: 0.39875, f1: 0.3924325578501233\n",
      "epoch: 90, train_loss: 1.386351466178894, val_loss: 1.4991477727890015, accuracy: 0.4125, f1: 0.4142356508888919\n",
      "epoch: 100, train_loss: 1.3674200773239136, val_loss: 1.4767652750015259, accuracy: 0.43625, f1: 0.43459322644035553\n",
      "epoch: 110, train_loss: 1.3456670045852661, val_loss: 1.5100462436676025, accuracy: 0.4175, f1: 0.41616702966916713\n",
      "epoch: 120, train_loss: 1.2497645616531372, val_loss: 1.4546442031860352, accuracy: 0.44375, f1: 0.44322881724334584\n",
      "epoch: 130, train_loss: 1.3287749290466309, val_loss: 1.466921091079712, accuracy: 0.43375, f1: 0.42406837584535007\n",
      "epoch: 140, train_loss: 1.2540006637573242, val_loss: 1.4602771997451782, accuracy: 0.4425, f1: 0.4379382937691355\n",
      "epoch: 150, train_loss: 1.2276127338409424, val_loss: 1.4714510440826416, accuracy: 0.43875, f1: 0.4330787089254669\n",
      "epoch: 160, train_loss: 1.2769725322723389, val_loss: 1.4514949321746826, accuracy: 0.45, f1: 0.45123054207073565\n",
      "epoch: 170, train_loss: 1.1820582151412964, val_loss: 1.4552744626998901, accuracy: 0.45125, f1: 0.45140680136156436\n",
      "epoch: 180, train_loss: 1.182604193687439, val_loss: 1.4637240171432495, accuracy: 0.44625, f1: 0.4367334057933999\n",
      "epoch: 190, train_loss: 1.1899813413619995, val_loss: 1.4631143808364868, accuracy: 0.44625, f1: 0.43855148762969776\n"
     ]
    }
   ],
   "source": [
    "model.train(net,train_dataloader,val_dataloader,epochs=200)"
   ]
  },
  {
   "cell_type": "code",
   "execution_count": 12,
   "metadata": {},
   "outputs": [
    {
     "data": {
      "text/plain": [
       "True"
      ]
     },
     "execution_count": 12,
     "metadata": {},
     "output_type": "execute_result"
    }
   ],
   "source": [
    "torch.cuda.is_available()"
   ]
  },
  {
   "cell_type": "code",
   "execution_count": 13,
   "metadata": {},
   "outputs": [],
   "source": [
    "import os\n",
    "os.environ['CUDA_LAUNCH_BLOCKING'] = \"1\"\n",
    "\n",
    "\n",
    "test_dataloader = dataset.get_test_dataloader(concatenate_feature_test,label_test)\n",
    "\n",
    "_, accuracy, f1, f1_report = model.test_model(net,test_dataloader)"
   ]
  },
  {
   "cell_type": "code",
   "execution_count": 14,
   "metadata": {},
   "outputs": [
    {
     "name": "stdout",
     "output_type": "stream",
     "text": [
      "              precision    recall  f1-score   support\n",
      "\n",
      "           0       0.31      0.17      0.22       222\n",
      "           1       0.28      0.11      0.16       237\n",
      "           2       0.26      0.43      0.32       231\n",
      "           3       0.29      0.58      0.39       240\n",
      "           4       0.48      0.12      0.20       237\n",
      "           5       0.29      0.33      0.31       233\n",
      "\n",
      "    accuracy                           0.29      1400\n",
      "   macro avg       0.32      0.29      0.27      1400\n",
      "weighted avg       0.32      0.29      0.27      1400\n",
      "\n"
     ]
    }
   ],
   "source": [
    "print(f1_report)"
   ]
  },
  {
   "cell_type": "code",
   "execution_count": null,
   "metadata": {},
   "outputs": [],
   "source": []
  },
  {
   "cell_type": "code",
   "execution_count": null,
   "metadata": {},
   "outputs": [],
   "source": []
  },
  {
   "cell_type": "code",
   "execution_count": null,
   "metadata": {},
   "outputs": [],
   "source": []
  },
  {
   "cell_type": "code",
   "execution_count": null,
   "metadata": {},
   "outputs": [],
   "source": []
  }
 ],
 "metadata": {
  "kernelspec": {
   "display_name": "CV",
   "language": "python",
   "name": "python3"
  },
  "language_info": {
   "codemirror_mode": {
    "name": "ipython",
    "version": 3
   },
   "file_extension": ".py",
   "mimetype": "text/x-python",
   "name": "python",
   "nbconvert_exporter": "python",
   "pygments_lexer": "ipython3",
   "version": "3.10.13"
  }
 },
 "nbformat": 4,
 "nbformat_minor": 2
}
