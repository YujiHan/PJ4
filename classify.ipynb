{
 "cells": [
  {
   "cell_type": "code",
   "execution_count": 1,
   "metadata": {},
   "outputs": [],
   "source": [
    "import numpy as np\n",
    "import torch\n",
    "from torch import nn\n",
    "import math\n",
    "import model\n",
    "import dataset\n",
    "\n",
    "global_types = ['CLD', 'SCD', 'HIST']\n",
    "local_types = ['sift', 'orb', 'surf']"
   ]
  },
  {
   "cell_type": "code",
   "execution_count": null,
   "metadata": {},
   "outputs": [],
   "source": [
    "global_feature_train = np.load('/home/hanyuji/projects/PJ4/data/global_features/global_feature_CLD_train.npy')\n",
    "local_feature_train = np.load('/home/hanyuji/projects/PJ4/data/---local_features/local_feature_sift_train.npy')\n",
    "label_train = np.load('/home/hanyuji/projects/PJ4/data/labels/global_label_SCD_train.npy')\n",
    "\n",
    "global_feature_test = np.load('/home/hanyuji/projects/PJ4/data/global_features/global_feature_CLD_test.npy')\n",
    "local_feature_test = np.load('/home/hanyuji/projects/PJ4/data/---local_features/local_feature_sift_test.npy')\n",
    "label_test = np.load('/home/hanyuji/projects/PJ4/data/labels/label_test.npy')"
   ]
  },
  {
   "cell_type": "code",
   "execution_count": null,
   "metadata": {},
   "outputs": [],
   "source": []
  },
  {
   "cell_type": "code",
   "execution_count": null,
   "metadata": {},
   "outputs": [],
   "source": []
  },
  {
   "cell_type": "code",
   "execution_count": null,
   "metadata": {},
   "outputs": [],
   "source": []
  },
  {
   "cell_type": "code",
   "execution_count": null,
   "metadata": {},
   "outputs": [],
   "source": []
  },
  {
   "cell_type": "code",
   "execution_count": null,
   "metadata": {},
   "outputs": [],
   "source": []
  },
  {
   "cell_type": "code",
   "execution_count": null,
   "metadata": {},
   "outputs": [],
   "source": []
  },
  {
   "cell_type": "code",
   "execution_count": null,
   "metadata": {},
   "outputs": [],
   "source": []
  }
 ],
 "metadata": {
  "kernelspec": {
   "display_name": "CV",
   "language": "python",
   "name": "python3"
  },
  "language_info": {
   "codemirror_mode": {
    "name": "ipython",
    "version": 3
   },
   "file_extension": ".py",
   "mimetype": "text/x-python",
   "name": "python",
   "nbconvert_exporter": "python",
   "pygments_lexer": "ipython3",
   "version": "3.7.12"
  }
 },
 "nbformat": 4,
 "nbformat_minor": 2
}
